{
 "cells": [
  {
   "cell_type": "code",
   "execution_count": 1,
   "id": "3e6b1bcf-9cfb-4800-b8bb-41e469c07ee5",
   "metadata": {},
   "outputs": [],
   "source": [
    "analys = 'Anatoly'"
   ]
  },
  {
   "cell_type": "code",
   "execution_count": 2,
   "id": "a2b12657-538c-43d3-bd32-38d3db4b5ffc",
   "metadata": {},
   "outputs": [
    {
     "name": "stdout",
     "output_type": "stream",
     "text": [
      "Anatoly\n"
     ]
    }
   ],
   "source": [
    "print(analys)"
   ]
  },
  {
   "cell_type": "code",
   "execution_count": 4,
   "id": "6df9b4cb-4612-43cc-a056-1080b1eb1b02",
   "metadata": {},
   "outputs": [],
   "source": [
    "years = 2"
   ]
  },
  {
   "cell_type": "code",
   "execution_count": 5,
   "id": "902cb4eb-2374-4757-83b6-ea7d37f713b3",
   "metadata": {},
   "outputs": [],
   "source": [
    "has_job = False"
   ]
  },
  {
   "cell_type": "code",
   "execution_count": 6,
   "id": "def02d4e-3279-414c-9288-9b36a1a0c8bb",
   "metadata": {},
   "outputs": [],
   "source": [
    "analys_2 = 'Olga'"
   ]
  },
  {
   "cell_type": "code",
   "execution_count": 7,
   "id": "15d768fb-166f-4900-bdfd-07485021942d",
   "metadata": {},
   "outputs": [],
   "source": [
    "years_2 = 3"
   ]
  },
  {
   "cell_type": "code",
   "execution_count": 8,
   "id": "f4f29bbe-75d2-4599-81ed-06494938851c",
   "metadata": {},
   "outputs": [],
   "source": [
    "has_job_2 = True"
   ]
  },
  {
   "cell_type": "code",
   "execution_count": 37,
   "id": "4473c828-dd6d-4bcf-b596-ff485451cc2a",
   "metadata": {},
   "outputs": [],
   "source": [
    "analysts = ['Anatoly', 'Olga', 'Beslan']"
   ]
  },
  {
   "cell_type": "code",
   "execution_count": 38,
   "id": "6889a334-a043-43c0-a4b2-b6f39f72595a",
   "metadata": {},
   "outputs": [
    {
     "data": {
      "text/plain": [
       "['Anatoly', 'Olga', 'Beslan']"
      ]
     },
     "execution_count": 38,
     "metadata": {},
     "output_type": "execute_result"
    }
   ],
   "source": [
    "analysts"
   ]
  },
  {
   "cell_type": "code",
   "execution_count": 13,
   "id": "ad82cd8b-6010-47ac-ab5b-cad06415d955",
   "metadata": {},
   "outputs": [],
   "source": [
    "years = [2, 3, 4]"
   ]
  },
  {
   "cell_type": "code",
   "execution_count": 14,
   "id": "0f948cb1-cf80-4407-8673-374c3e87674e",
   "metadata": {},
   "outputs": [
    {
     "data": {
      "text/plain": [
       "'Anatoly'"
      ]
     },
     "execution_count": 14,
     "metadata": {},
     "output_type": "execute_result"
    }
   ],
   "source": [
    "analysts[0]"
   ]
  },
  {
   "cell_type": "code",
   "execution_count": 21,
   "id": "f8d7b122-aa58-4cb8-aa1c-3359e47f3977",
   "metadata": {},
   "outputs": [],
   "source": [
    "job_years = 5\n",
    "salary = 100000"
   ]
  },
  {
   "cell_type": "code",
   "execution_count": 24,
   "id": "bf872ee9-3185-48e9-8a33-58d08d5abd12",
   "metadata": {},
   "outputs": [],
   "source": [
    "message = 'Addition is equal '"
   ]
  },
  {
   "cell_type": "code",
   "execution_count": 26,
   "id": "fd8e5620-336c-4758-8288-28440d6f6191",
   "metadata": {},
   "outputs": [
    {
     "name": "stdout",
     "output_type": "stream",
     "text": [
      "Addition is equal 0.4\n",
      "140000.0\n"
     ]
    }
   ],
   "source": [
    "if job_years < 1:\n",
    "    coefficient = 0\n",
    "elif job_years >=1 and job_years<=2:\n",
    "    coefficient = 0.2\n",
    "else:\n",
    "    coefficient = 0.4\n",
    "new_salary = salary + salary*coefficient\n",
    "print(message +str(coefficient))\n",
    "print(new_salary)"
   ]
  },
  {
   "cell_type": "code",
   "execution_count": null,
   "id": "b63e18a5-ec40-43d3-8926-cf1354ad6038",
   "metadata": {},
   "outputs": [],
   "source": [
    "# метод format стилистически корректнее, с ним не требуется прямого приведения к строковому типу данных"
   ]
  },
  {
   "cell_type": "code",
   "execution_count": 28,
   "id": "e1662d00-e987-48bf-90bf-ab91fc406eac",
   "metadata": {},
   "outputs": [],
   "source": [
    "message = 'Addition is equal {}'"
   ]
  },
  {
   "cell_type": "code",
   "execution_count": 29,
   "id": "7d21a6dc-e2b0-4c43-a181-fc69227fa5dd",
   "metadata": {},
   "outputs": [
    {
     "name": "stdout",
     "output_type": "stream",
     "text": [
      "Addition is equal 0.4\n",
      "140000.0\n"
     ]
    }
   ],
   "source": [
    "if job_years < 1:\n",
    "    coefficient = 0\n",
    "elif job_years >=1 and job_years<=2:\n",
    "    coefficient = 0.2\n",
    "else:\n",
    "    coefficient = 0.4\n",
    "new_salary = salary + salary*coefficient\n",
    "print(message.format(coefficient))\n",
    "print(new_salary)\n"
   ]
  },
  {
   "cell_type": "code",
   "execution_count": 35,
   "id": "4ba6f0ef-4354-43a5-9c34-24ab0c232375",
   "metadata": {},
   "outputs": [],
   "source": [
    "message = 'Addition is equal {coef}. New salary is {new_salary}'"
   ]
  },
  {
   "cell_type": "code",
   "execution_count": 36,
   "id": "a4051834-0441-4b3d-8305-a2588e9cfeb4",
   "metadata": {},
   "outputs": [
    {
     "name": "stdout",
     "output_type": "stream",
     "text": [
      "Addition is equal 0.4. New salary is 140000.0\n"
     ]
    }
   ],
   "source": [
    "if job_years < 1:\n",
    "    coefficient = 0\n",
    "elif job_years >=1 and job_years<=2:\n",
    "    coefficient = 0.2\n",
    "else:\n",
    "    coefficient = 0.4\n",
    "    \n",
    "new_salary = salary + salary*coefficient\n",
    "\n",
    "print(message.format(coef=coefficient, new_salary=new_salary))"
   ]
  },
  {
   "cell_type": "code",
   "execution_count": null,
   "id": "89749c16-9545-45c3-8243-b9c329c385b5",
   "metadata": {},
   "outputs": [],
   "source": []
  },
  {
   "cell_type": "code",
   "execution_count": null,
   "id": "6d3db6c4-0187-452b-9cc3-5eb089f1c036",
   "metadata": {},
   "outputs": [],
   "source": []
  },
  {
   "cell_type": "code",
   "execution_count": 39,
   "id": "019041c2-2397-48d1-a1d9-2f01ffb1e793",
   "metadata": {},
   "outputs": [
    {
     "name": "stdout",
     "output_type": "stream",
     "text": [
      "Anatoly\n",
      "Olga\n",
      "Beslan\n"
     ]
    }
   ],
   "source": [
    "for i in analysts:\n",
    "    print(i)"
   ]
  },
  {
   "cell_type": "code",
   "execution_count": 40,
   "id": "24f0d761-3ab7-486f-8b66-8864a0387525",
   "metadata": {},
   "outputs": [
    {
     "name": "stdout",
     "output_type": "stream",
     "text": [
      "Analyst name is Anatoly\n",
      "Analyst name is Olga\n",
      "Analyst name is Beslan\n"
     ]
    }
   ],
   "source": [
    "for i in analysts:\n",
    "    print('Analyst name is {}'.format(i))"
   ]
  },
  {
   "cell_type": "code",
   "execution_count": 41,
   "id": "ee54ca8e-8afc-4a08-812e-c0aaf014d770",
   "metadata": {},
   "outputs": [
    {
     "name": "stdout",
     "output_type": "stream",
     "text": [
      "Analyst name is Anatoly\n"
     ]
    }
   ],
   "source": [
    "for i in analysts:\n",
    "    if i == 'Anatoly':\n",
    "        print('Analyst name is {}'.format(i))"
   ]
  },
  {
   "cell_type": "code",
   "execution_count": null,
   "id": "3f5f36e6-42f9-4f06-97fd-3f465eadc5e9",
   "metadata": {},
   "outputs": [],
   "source": [
    "# словари (листы)"
   ]
  },
  {
   "cell_type": "code",
   "execution_count": 1,
   "id": "64e723d8-f783-4b90-8716-fab2e69a3abb",
   "metadata": {},
   "outputs": [],
   "source": [
    "analysts_data = {'Anatoly': 2, 'Olga': 3, 'Beslan': 4}"
   ]
  },
  {
   "cell_type": "code",
   "execution_count": 2,
   "id": "3f22f9ad-bb83-4d1a-b536-4ae06b78fc7f",
   "metadata": {},
   "outputs": [
    {
     "data": {
      "text/plain": [
       "2"
      ]
     },
     "execution_count": 2,
     "metadata": {},
     "output_type": "execute_result"
    }
   ],
   "source": [
    "analysts_data['Anatoly']"
   ]
  },
  {
   "cell_type": "code",
   "execution_count": 4,
   "id": "6c89ada0-ad2e-440d-9088-7b77bcb87723",
   "metadata": {},
   "outputs": [],
   "source": [
    "# добавлякм новое значение в словарь(лист)\n",
    "analysts_data['Michael'] = 10"
   ]
  },
  {
   "cell_type": "code",
   "execution_count": 5,
   "id": "e59d1a6d-eba5-44e2-93a2-ce3a139447f7",
   "metadata": {},
   "outputs": [
    {
     "name": "stdout",
     "output_type": "stream",
     "text": [
      "{'Anatoly': 2, 'Olga': 3, 'Beslan': 4, 'Michael': 10}\n"
     ]
    }
   ],
   "source": [
    "print(analysts_data)"
   ]
  },
  {
   "cell_type": "code",
   "execution_count": 7,
   "id": "4118c174-f703-4449-b7ab-f6f8f246d07d",
   "metadata": {},
   "outputs": [],
   "source": [
    "analysts_data = {'Anatoly': [2, 100000], 'Olga': [3, 200000], 'Beslan': [4, 300000]}"
   ]
  },
  {
   "cell_type": "code",
   "execution_count": 9,
   "id": "65d09c67-00e9-4d74-ab32-01e594fa33c2",
   "metadata": {},
   "outputs": [
    {
     "name": "stdout",
     "output_type": "stream",
     "text": [
      "Anatoly\n",
      "Olga\n",
      "Beslan\n"
     ]
    }
   ],
   "source": [
    "for i in analysts_data:\n",
    "    print(i)"
   ]
  },
  {
   "cell_type": "code",
   "execution_count": 10,
   "id": "c1393e0e-4baf-44a3-801c-5b8b1d03bc5f",
   "metadata": {},
   "outputs": [
    {
     "name": "stdout",
     "output_type": "stream",
     "text": [
      "Anatoly [2, 100000]\n",
      "Olga [3, 200000]\n",
      "Beslan [4, 300000]\n"
     ]
    }
   ],
   "source": [
    "for i in analysts_data:\n",
    "    print(i, analysts_data[i])"
   ]
  },
  {
   "cell_type": "code",
   "execution_count": 13,
   "id": "53942c03-e6b6-4ee0-83a6-73210311059a",
   "metadata": {},
   "outputs": [
    {
     "name": "stdout",
     "output_type": "stream",
     "text": [
      "Olga\n",
      "Beslan\n"
     ]
    }
   ],
   "source": [
    "for i in analysts_data:\n",
    "    if  analysts_data[i][0] >= 3:\n",
    "        print(i)"
   ]
  },
  {
   "cell_type": "code",
   "execution_count": null,
   "id": "e7d719d9-a4e5-4bfa-8629-21ed5036a3f3",
   "metadata": {},
   "outputs": [],
   "source": []
  }
 ],
 "metadata": {
  "kernelspec": {
   "display_name": "Python 3 (ipykernel)",
   "language": "python",
   "name": "python3"
  },
  "language_info": {
   "codemirror_mode": {
    "name": "ipython",
    "version": 3
   },
   "file_extension": ".py",
   "mimetype": "text/x-python",
   "name": "python",
   "nbconvert_exporter": "python",
   "pygments_lexer": "ipython3",
   "version": "3.12.2"
  }
 },
 "nbformat": 4,
 "nbformat_minor": 5
}
