{
 "cells": [
  {
   "cell_type": "code",
   "execution_count": 3,
   "id": "e1e0831b-cf3a-4b64-be6f-82b1c04dcffd",
   "metadata": {},
   "outputs": [],
   "source": [
    "age = 30"
   ]
  },
  {
   "cell_type": "code",
   "execution_count": 4,
   "id": "d1bed66e-09be-44f2-9c70-1299201ec4bb",
   "metadata": {},
   "outputs": [],
   "source": [
    "name = 'Anna'"
   ]
  },
  {
   "cell_type": "code",
   "execution_count": 5,
   "id": "c5e7c4b2-eccd-44aa-8e21-e467e950284c",
   "metadata": {},
   "outputs": [],
   "source": [
    "user_info = ['Olga', 'Ivanova', 10500.5, 10]"
   ]
  },
  {
   "cell_type": "code",
   "execution_count": 6,
   "id": "98db3262-56c1-4355-bae7-7b259db5c783",
   "metadata": {},
   "outputs": [
    {
     "name": "stdout",
     "output_type": "stream",
     "text": [
      "['Olga', 'Ivanova', 10500.5, 10]\n"
     ]
    }
   ],
   "source": [
    "print(user_info)"
   ]
  },
  {
   "cell_type": "code",
   "execution_count": 7,
   "id": "82feba2f-b469-41ea-b9b3-4539629cb6c1",
   "metadata": {},
   "outputs": [],
   "source": [
    "salaries = [42, 100, 70, 80]"
   ]
  },
  {
   "cell_type": "code",
   "execution_count": 8,
   "id": "0f10232c-71b7-4dd9-9d43-c71bf14b0fe0",
   "metadata": {},
   "outputs": [],
   "source": [
    "first = salaries[0]"
   ]
  },
  {
   "cell_type": "code",
   "execution_count": 9,
   "id": "e9fc096b-963d-4b8a-b330-fdd7fc865c1f",
   "metadata": {},
   "outputs": [
    {
     "name": "stdout",
     "output_type": "stream",
     "text": [
      "42\n"
     ]
    }
   ],
   "source": [
    "print(first)"
   ]
  },
  {
   "cell_type": "code",
   "execution_count": 10,
   "id": "c29f3f0c-15a3-45a0-86a3-ca75719c28b8",
   "metadata": {},
   "outputs": [],
   "source": [
    "user_info.append('Voronov')"
   ]
  },
  {
   "cell_type": "code",
   "execution_count": 11,
   "id": "c0e8abf1-49f1-42e2-80b6-004b4140bda9",
   "metadata": {},
   "outputs": [],
   "source": [
    "user_info.append(42)"
   ]
  },
  {
   "cell_type": "code",
   "execution_count": 12,
   "id": "742c80b5-9650-4815-ba53-5dd968d6c38c",
   "metadata": {},
   "outputs": [],
   "source": [
    "# Напишите цикл, выводящий на печать элементы больше 18."
   ]
  },
  {
   "cell_type": "code",
   "execution_count": 13,
   "id": "ae6e064a-6b3a-4c75-8198-80745e60de25",
   "metadata": {},
   "outputs": [],
   "source": [
    "user_ages = [10, 18, 21, 35, 42, 27, 12, 16]"
   ]
  },
  {
   "cell_type": "code",
   "execution_count": 14,
   "id": "6e22d092-b3f1-47a8-bccf-6b27cda7b97a",
   "metadata": {},
   "outputs": [
    {
     "name": "stdout",
     "output_type": "stream",
     "text": [
      "21\n",
      "35\n",
      "42\n",
      "27\n"
     ]
    }
   ],
   "source": [
    "for i in user_ages:\n",
    "    if i>18:\n",
    "        print(i)"
   ]
  },
  {
   "cell_type": "code",
   "execution_count": 15,
   "id": "d3c069fc-c251-4767-9c88-9ac094420d1f",
   "metadata": {},
   "outputs": [],
   "source": [
    "# Напишите программу, проверяющую стаж работы сотрудника."
   ]
  },
  {
   "cell_type": "code",
   "execution_count": 16,
   "id": "99d79255-5c7d-40e2-ab74-7fec17d3adce",
   "metadata": {},
   "outputs": [],
   "source": [
    "workers = ['Ivan', 'Ivanov', 100000, 3]"
   ]
  },
  {
   "cell_type": "code",
   "execution_count": 17,
   "id": "44c857cf-84e9-45e7-a3e0-66b3abd83598",
   "metadata": {},
   "outputs": [],
   "source": [
    "user_name = workers[0]\n",
    "user_family = workers[1]\n",
    "stagh = workers[-1]\n",
    "\n",
    "if stagh < 2:\n",
    "    position = 'junior'\n",
    "elif stagh >= 2 and stagh <= 5:\n",
    "    position = 'middle'\n",
    "elif stagh > 5:\n",
    "    position = 'senior'\n",
    "\n",
    "status = str(user_name) + ' ' + str(user_family) + ' ' + 'is' + ' ' + str(position)"
   ]
  },
  {
   "cell_type": "code",
   "execution_count": 18,
   "id": "fa1b11a3-d377-452b-a387-437033e96aae",
   "metadata": {},
   "outputs": [
    {
     "name": "stdout",
     "output_type": "stream",
     "text": [
      "Ivan Ivanov is middle\n"
     ]
    }
   ],
   "source": [
    "print(status)"
   ]
  },
  {
   "cell_type": "code",
   "execution_count": 19,
   "id": "cc43e8fe-b577-4dcb-9d60-c4e1133b1c17",
   "metadata": {},
   "outputs": [],
   "source": [
    "# В списке values содержатся числовые значения. Создайте список tens и добавьте в него все числа из values, которые делятся на 10 нацело"
   ]
  },
  {
   "cell_type": "code",
   "execution_count": 20,
   "id": "6289f6fa-d3f9-46f7-91d9-a1bf7d455143",
   "metadata": {},
   "outputs": [],
   "source": [
    "values = [12, 134, 10, 47, 100, 20, 50, 160, 210]\n",
    "tens = []"
   ]
  },
  {
   "cell_type": "code",
   "execution_count": 21,
   "id": "1f2eddb9-4975-40ea-a1fa-fb289d0ad60d",
   "metadata": {},
   "outputs": [],
   "source": [
    "for i in values:\n",
    "    if i % 10 == 0:\n",
    "        tens.append(i)"
   ]
  },
  {
   "cell_type": "code",
   "execution_count": 22,
   "id": "de90bea2-acf8-40ff-baa3-b7e9694c8bbe",
   "metadata": {},
   "outputs": [
    {
     "name": "stdout",
     "output_type": "stream",
     "text": [
      "[10, 100, 20, 50, 160, 210]\n"
     ]
    }
   ],
   "source": [
    "print(tens)"
   ]
  },
  {
   "cell_type": "code",
   "execution_count": 23,
   "id": "a84cd7f5-11e7-4557-921b-a4b7207cbc5c",
   "metadata": {},
   "outputs": [],
   "source": [
    "workers2 = [['Ivan', 'Ivanov', 100000, 2], ['Petr', 'Petrov', 150000, 2], ['Sidor', 'Sidorov', 200000, 3]]"
   ]
  },
  {
   "cell_type": "code",
   "execution_count": null,
   "id": "b3c7b0a8-3352-4c68-9570-3308e42b2943",
   "metadata": {},
   "outputs": [],
   "source": []
  },
  {
   "cell_type": "code",
   "execution_count": 25,
   "id": "33f79d7d-2e5c-4336-877d-125223600efc",
   "metadata": {},
   "outputs": [
    {
     "name": "stdout",
     "output_type": "stream",
     "text": [
      "Ivan\n",
      "Ivanov\n",
      "2\n",
      "Ivan Ivanov is middle\n",
      "Petr\n",
      "Petrov\n",
      "2\n",
      "Petr Petrov is middle\n",
      "Sidor\n",
      "Sidorov\n",
      "3\n",
      "Sidor Sidorov is middle\n"
     ]
    }
   ],
   "source": [
    "for i in range(len(workers2)):\n",
    "    user_name = workers2[i][0]\n",
    "    print(user_name)\n",
    "    user_family = workers2[i][1]\n",
    "    print(user_family)\n",
    "    stagh = workers2[i][-1]\n",
    "    print(stagh)\n",
    "    \n",
    "    if stagh < 2:\n",
    "        position = 'junior'\n",
    "    elif stagh >= 2 and stagh <= 5:\n",
    "        position = 'middle'\n",
    "    elif stagh > 5:\n",
    "       position = 'senior'\n",
    "        \n",
    "    status = f'{user_name} {user_family} is {position}'\n",
    "    print(status)"
   ]
  },
  {
   "cell_type": "code",
   "execution_count": null,
   "id": "a32519a9-3e80-464d-9cf0-c65dc2553b13",
   "metadata": {},
   "outputs": [],
   "source": []
  },
  {
   "cell_type": "code",
   "execution_count": null,
   "id": "e7055277-b6c7-498f-a842-04c033e2aa8f",
   "metadata": {},
   "outputs": [],
   "source": [
    "# последнее задание со звездочкой не решила, переходи к спискам"
   ]
  },
  {
   "cell_type": "code",
   "execution_count": 32,
   "id": "fcaef544-c83e-4d37-b1b9-eecbd8336426",
   "metadata": {},
   "outputs": [],
   "source": [
    "salaries_dict = {'name': 'Masha', 'surname': 'Volkova', 'age': 25, 'salary': 60000, 'position': 'junior'}"
   ]
  },
  {
   "cell_type": "code",
   "execution_count": 35,
   "id": "782e105c-cb29-403c-be92-61ee99c290d2",
   "metadata": {},
   "outputs": [
    {
     "name": "stdout",
     "output_type": "stream",
     "text": [
      "Masha\n"
     ]
    }
   ],
   "source": [
    "print(salaries_dict['name'])"
   ]
  },
  {
   "cell_type": "code",
   "execution_count": 37,
   "id": "30e1792d-ea00-4219-9c95-7898beff8fe7",
   "metadata": {},
   "outputs": [],
   "source": [
    "users_dict = {\n",
    "    'mvolkova': {'name': 'Masha', 'surname': 'Volkova', 'age': 25, 'salary': 60000, 'position': 'junior'},\n",
    "    'pvoronov': {'name': 'Peter', 'surname': 'Voronov', 'age': 27, 'salary': 100000, 'position': 'junior'},\n",
    "    'pparker': {'name': 'Peter', 'surname': 'Voronov', 'age': 35, 'salary': 150000, 'position': 'middle'},\n",
    "    'akarpov': {'name': 'Anatoly', 'surname': 'Karpov', 'age': 30, 'salary': 250000, 'position': 'senior'},\n",
    "}"
   ]
  },
  {
   "cell_type": "code",
   "execution_count": null,
   "id": "d5166c9d-2b67-49fe-9613-ac3d5581fd2c",
   "metadata": {},
   "outputs": [],
   "source": []
  }
 ],
 "metadata": {
  "kernelspec": {
   "display_name": "Python 3 (ipykernel)",
   "language": "python",
   "name": "python3"
  },
  "language_info": {
   "codemirror_mode": {
    "name": "ipython",
    "version": 3
   },
   "file_extension": ".py",
   "mimetype": "text/x-python",
   "name": "python",
   "nbconvert_exporter": "python",
   "pygments_lexer": "ipython3",
   "version": "3.12.2"
  }
 },
 "nbformat": 4,
 "nbformat_minor": 5
}
