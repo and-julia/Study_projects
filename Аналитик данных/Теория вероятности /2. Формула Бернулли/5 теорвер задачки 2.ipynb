{
 "cells": [
  {
   "cell_type": "code",
   "execution_count": 65,
   "id": "c2ce86a9-9173-438b-a573-823ba63df780",
   "metadata": {},
   "outputs": [],
   "source": [
    "import pandas as pd\n",
    "from scipy import special\n",
    "from math import factorial"
   ]
  },
  {
   "cell_type": "markdown",
   "id": "adbf65a6-8718-45d9-83c0-7f38fe3b5621",
   "metadata": {},
   "source": [
    "### Задание 1\n",
    "Устройство, состоящее из пяти независимо работающих элементов, включается за время Т. \n",
    "Вероятность отказа каждого из них за это время равна 0,4.\n",
    "Найти вероятность того, что откажут три элемента. \n",
    "Ответ округлите до четырёх знаков после запятой. В качестве десятичного разделителя используйте точку."
   ]
  },
  {
   "cell_type": "code",
   "execution_count": 66,
   "id": "580dcd1c-4994-437d-827f-a1505e3f932a",
   "metadata": {},
   "outputs": [
    {
     "data": {
      "text/plain": [
       "0.2304"
      ]
     },
     "execution_count": 66,
     "metadata": {},
     "output_type": "execute_result"
    }
   ],
   "source": [
    "def num_of_refusing(n, k):\n",
    "    p, q = 0.4, 0.6\n",
    "    P = factorial(n)/(factorial(k) * factorial(n - k))\n",
    "    return round(P * (p ** k) * (q ** (n - k)), 4)\n",
    "\n",
    "num_of_refusing(n=5, k=3)"
   ]
  },
  {
   "cell_type": "markdown",
   "id": "9e0df227-1693-4048-867f-5d2bf0a4baff",
   "metadata": {},
   "source": [
    "### Задание 2\n",
    "Устройство, состоящее из пяти независимо работающих элементов, включается за время Т. Вероятность отказа каждого из них за это время равна 0,4. \n",
    "Найдите вероятность того, что хотя бы один элемент откажет. Ответ округлите до трёх знаков после запятой.\n",
    "\n",
    "Ситуация, противоположная \"хоть один элемент отказал\" - \"ни один элемент не отказал\". Если сумеете найти вероятность второй ситуации - автоматически найдёте вероятность первой."
   ]
  },
  {
   "cell_type": "code",
   "execution_count": 67,
   "id": "5094a5b8-e6bb-4a5f-9671-08bf8ee83d48",
   "metadata": {},
   "outputs": [
    {
     "data": {
      "text/plain": [
       "0.078"
      ]
     },
     "execution_count": 67,
     "metadata": {},
     "output_type": "execute_result"
    }
   ],
   "source": [
    "def num_of_refusing(n, k):\n",
    "    p, q = 0.4, 0.6\n",
    "    P = factorial(n)/(factorial(k) * factorial(n - k))\n",
    "    return round(P * (p ** k) * (q ** (n - k)), 3)\n",
    "\n",
    "num_of_refusing(n=5, k=0)"
   ]
  },
  {
   "cell_type": "code",
   "execution_count": 68,
   "id": "23a15e5c-819c-4310-9507-c6d22838370d",
   "metadata": {},
   "outputs": [
    {
     "data": {
      "text/plain": [
       "0.922"
      ]
     },
     "execution_count": 68,
     "metadata": {},
     "output_type": "execute_result"
    }
   ],
   "source": [
    "1 - num_of_refusing(n=5, k=0)"
   ]
  },
  {
   "cell_type": "markdown",
   "id": "21f432b2-ac29-4d64-a34e-917e4ec3c271",
   "metadata": {},
   "source": [
    "### Задание 3\n",
    "Производится 8 выстрелов по цели, в каждом из которых вероятность попадания равна 0,3. \n",
    "Найти вероятность того, что цель будет поражена хотя бы два раза. Ответ округлите до тысячных."
   ]
  },
  {
   "cell_type": "code",
   "execution_count": 69,
   "id": "123a20df-d85b-48bd-a6f6-eaab3c032a32",
   "metadata": {},
   "outputs": [],
   "source": [
    "def formula (n, k):\n",
    "    p, q = 0.3, 0.7\n",
    "    C = factorial(n)/(factorial(k)*factorial(n-k))\n",
    "    return(C*p**k*q**(n-k))"
   ]
  },
  {
   "cell_type": "code",
   "execution_count": 70,
   "id": "5d70f34c-d7c6-4d29-80ce-4559a0174e98",
   "metadata": {},
   "outputs": [
    {
     "data": {
      "text/plain": [
       "0.7447016700000001"
      ]
     },
     "execution_count": 70,
     "metadata": {},
     "output_type": "execute_result"
    }
   ],
   "source": [
    "1 - formula(8, 0)-formula(8, 1)"
   ]
  },
  {
   "cell_type": "code",
   "execution_count": 71,
   "id": "bc7fda8f-e4ab-4295-862c-75380dce013e",
   "metadata": {},
   "outputs": [
    {
     "data": {
      "text/plain": [
       "0.05764800999999997"
      ]
     },
     "execution_count": 71,
     "metadata": {},
     "output_type": "execute_result"
    }
   ],
   "source": [
    "# вероятность, что промахов не будет\n",
    "formula(n=8, k=0)"
   ]
  },
  {
   "cell_type": "code",
   "execution_count": 72,
   "id": "301883b8-9e37-4d03-80d6-3e1de6a2fedb",
   "metadata": {},
   "outputs": [
    {
     "data": {
      "text/plain": [
       "0.1976503199999999"
      ]
     },
     "execution_count": 72,
     "metadata": {},
     "output_type": "execute_result"
    }
   ],
   "source": [
    "# вероятность, что будет один промах:\n",
    "formula(n=8, k=1)"
   ]
  },
  {
   "cell_type": "code",
   "execution_count": 73,
   "id": "843139ea-4990-4654-8e5a-c08809e5b1ad",
   "metadata": {},
   "outputs": [
    {
     "data": {
      "text/plain": [
       "0.745"
      ]
     },
     "execution_count": 73,
     "metadata": {},
     "output_type": "execute_result"
    }
   ],
   "source": [
    "# cумма этих вероятностей противоположна вероятности события \"попали хотя бы два раза\". \n",
    "round(1 - (formula(n=8, k=0) + formula(n=8, k=1)), 3)"
   ]
  },
  {
   "cell_type": "markdown",
   "id": "c5ee52ff-1b46-41a8-ac53-939f3311e8e2",
   "metadata": {},
   "source": [
    "### Задание 4\n",
    "В магазине 7 покупателей. Каждый может совершить покупку с вероятностью 0,4. Найти вероятность того, что не более двух человек \n",
    "совершат покупку. Ответ округлите до сотых. "
   ]
  },
  {
   "cell_type": "markdown",
   "id": "6dc2426c-212f-42e4-824e-21400325d3fe",
   "metadata": {},
   "source": [
    "не более двух - это 0 или 1 или 2"
   ]
  },
  {
   "cell_type": "code",
   "execution_count": 95,
   "id": "253c5e45-fc6e-4eea-a9f3-d8ddab6dcbd1",
   "metadata": {},
   "outputs": [
    {
     "data": {
      "text/plain": [
       "0.42"
      ]
     },
     "execution_count": 95,
     "metadata": {},
     "output_type": "execute_result"
    }
   ],
   "source": [
    "def purchases (n, k):\n",
    "    p, q = 0.4, 0.6\n",
    "    C = factorial(n)/(factorial(k)*factorial(n-k))\n",
    "    return (C * p**k *q**(n-k))\n",
    "\n",
    "round(purchases (7, 0) + purchases (7, 1) + purchases (7, 2), 2)"
   ]
  },
  {
   "cell_type": "markdown",
   "id": "ce67ffaf-5348-41cc-b8dc-33aa073f7778",
   "metadata": {},
   "source": [
    "## Задание 5\n",
    "В телеателье имеется 7 телевизоров. Для каждого телевизора вероятность того, что в данный момент он включен, равна 0,5. \n",
    "Найти вероятность того, что в данный момент включены не менее трех телевизоров. Ответ округлите до тысячных. "
   ]
  },
  {
   "cell_type": "markdown",
   "id": "290ce1d3-bd02-43d2-b5fa-1224d33ce1c5",
   "metadata": {},
   "source": [
    "не менее трех - то есть не 0 или 1 или 2"
   ]
  },
  {
   "cell_type": "code",
   "execution_count": 94,
   "id": "13a91160-677b-4f96-bac9-78dda2e48d15",
   "metadata": {},
   "outputs": [
    {
     "data": {
      "text/plain": [
       "0.773"
      ]
     },
     "execution_count": 94,
     "metadata": {},
     "output_type": "execute_result"
    }
   ],
   "source": [
    "def tv_on (n, k):\n",
    "    p, q = 0.5, 0.5\n",
    "    C = factorial(n)/(factorial(k)*factorial(n-k))\n",
    "    return C * p**k * q**(n-k)\n",
    "\n",
    "round(1 - (tv_on(7, 0) + tv_on(7, 1) + tv_on(7, 2)), 3)"
   ]
  },
  {
   "cell_type": "markdown",
   "id": "066e6f2e-2858-4ee6-8168-61e3cbf9aef2",
   "metadata": {},
   "source": [
    "## Задание 6\n",
    "Пусть вероятность того, что покупателю необходим компьютер с операционной системой Linux, равна 0.25. Найдите вероятность того, что из шести покупателей по крайней мере двум необходим компьютер с операционной системой Linux. \n",
    "Ответ округлите до сотых\r\n"
   ]
  },
  {
   "cell_type": "markdown",
   "id": "c010d658-6227-4dfd-9840-f0f0d59ef278",
   "metadata": {},
   "source": [
    "по крайней мере двум - не 0 и не 1"
   ]
  },
  {
   "cell_type": "code",
   "execution_count": 92,
   "id": "f903f2ac-61db-463f-8490-e906f0fabd67",
   "metadata": {},
   "outputs": [
    {
     "data": {
      "text/plain": [
       "0.47"
      ]
     },
     "execution_count": 92,
     "metadata": {},
     "output_type": "execute_result"
    }
   ],
   "source": [
    "def linux (n, k):\n",
    "    p, q = 0.25, 0.75\n",
    "    C = factorial(n) / (factorial(k) * factorial(n-k))\n",
    "    return C * p**k * q**(n-k)\n",
    "\n",
    "round(1 - linux(6, 0) - linux(6, 1), 2)"
   ]
  },
  {
   "cell_type": "markdown",
   "id": "2550d14f-5947-43cc-9d58-dbf816c607f7",
   "metadata": {},
   "source": [
    "## Задание 7\n",
    "Для нормальной работы отдела по дата-аналитике необходимо, чтобы в офисе было не менее восьми программистов, а всего в штате 10 программистов. Вероятность того, что программист заболеет, равна 0.1. Найдите вероятность нормальной работы отдела по дата-аналитике.\n",
    "Ответ округлите до сотых"
   ]
  },
  {
   "cell_type": "markdown",
   "id": "72334158-3283-4471-add4-81f8de4fdb58",
   "metadata": {},
   "source": [
    "Отдел будет работать нормально в трёх случаях:\n",
    "- Не болеет никто\n",
    "- Болеет один программист\n",
    "- Болеют двое программистов"
   ]
  },
  {
   "cell_type": "code",
   "execution_count": 102,
   "id": "a884547d-9f4d-4d2f-b1b8-d6d0366f3176",
   "metadata": {},
   "outputs": [
    {
     "data": {
      "text/plain": [
       "0.93"
      ]
     },
     "execution_count": 102,
     "metadata": {},
     "output_type": "execute_result"
    }
   ],
   "source": [
    "def analysis (n, k):\n",
    "    p, q = 0.1, 0.9\n",
    "    C = factorial(n) / (factorial(k) * factorial(n-k))\n",
    "    return C * p**k * q**(n-k)\n",
    "\n",
    "round(analysis(10, 0) + analysis(10, 1) + analysis(10, 2), 2)"
   ]
  },
  {
   "cell_type": "markdown",
   "id": "52d1edd3-7e33-4ef3-9205-a3188552e89c",
   "metadata": {},
   "source": [
    "## Задание 8\n",
    "Среди всех скриптов, которые пишет программист, с 10%-ой вероятностью скрипт будет с ошибкой. Найдем вероятность того, что среди 30 скриптов два не будут работать.\n",
    "Ответ округлите до тысячных"
   ]
  },
  {
   "cell_type": "code",
   "execution_count": 103,
   "id": "c7c5d418-e9e8-44c4-b1a5-246872eebaab",
   "metadata": {},
   "outputs": [
    {
     "data": {
      "text/plain": [
       "0.228"
      ]
     },
     "execution_count": 103,
     "metadata": {},
     "output_type": "execute_result"
    }
   ],
   "source": [
    "def mistake (n, k):\n",
    "    p, q = 0.1, 0.9\n",
    "    C = factorial(n) / (factorial(k) * factorial(n-k))\n",
    "    return C * p**k * q**(n-k)\n",
    "\n",
    "round(analysis(30, 2), 3)"
   ]
  },
  {
   "cell_type": "markdown",
   "id": "99ce8308-409f-4139-b7d5-1cc49d5f1afc",
   "metadata": {},
   "source": [
    "## Задание 9\n",
    "В очень большом чате по дата аналитике сидит 1730 человек. Вероятность того, что день рождения наугад взятого участника чата приходится на определенный день года, равна 1/365 для каждого из 365 дней. Найдем наиболее вероятное число счастливчиков, которые родились 1 марта.\n"
   ]
  },
  {
   "cell_type": "raw",
   "id": "0582ca55-48f9-41f8-bc70-8cac955ced5e",
   "metadata": {},
   "source": [
    "Биномиальное распределение (распределение по схеме Бернулли) позволяет, в частности, установить, какое число появлений события А\n",
    " наиболее вероятно. Формула для наиболее вероятного числа успехов k\n",
    " (появлений события) имеет вид:\n",
    "\n",
    "np−q ≤ k ≤ np+p"
   ]
  },
  {
   "cell_type": "code",
   "execution_count": 114,
   "id": "2aeac99e-8e01-4eaf-969d-f00f2f920cde",
   "metadata": {},
   "outputs": [],
   "source": [
    "p = 1/365\n",
    "q = 364/365\n",
    "n = 1730"
   ]
  },
  {
   "cell_type": "code",
   "execution_count": 115,
   "id": "47a97019-aaca-461c-93aa-83a195527e4b",
   "metadata": {},
   "outputs": [
    {
     "data": {
      "text/plain": [
       "3.742465753424658"
      ]
     },
     "execution_count": 115,
     "metadata": {},
     "output_type": "execute_result"
    }
   ],
   "source": [
    "n*p-q"
   ]
  },
  {
   "cell_type": "code",
   "execution_count": 116,
   "id": "b1dcfaed-228a-4220-924c-122432b9425e",
   "metadata": {},
   "outputs": [
    {
     "data": {
      "text/plain": [
       "4.742465753424658"
      ]
     },
     "execution_count": 116,
     "metadata": {},
     "output_type": "execute_result"
    }
   ],
   "source": [
    "n*p+p"
   ]
  },
  {
   "cell_type": "code",
   "execution_count": null,
   "id": "9ad0d2ba-fc18-4213-a49b-0c217fb09a46",
   "metadata": {},
   "outputs": [],
   "source": [
    "np - q <= k <= np+p"
   ]
  },
  {
   "cell_type": "markdown",
   "id": "077d3f11-9ab3-40a2-b97e-d8a9518e2f73",
   "metadata": {},
   "source": [
    "Ответ: к = 4"
   ]
  },
  {
   "cell_type": "markdown",
   "id": "0f05719b-e46b-4551-8776-158787d28a71",
   "metadata": {},
   "source": [
    "## Задание 10\n",
    "В урне 20 шаров: 15 белых и 5 чёрных. Вынули подряд 5 шаров, причём каждый вынутый шар возвращается в урну и перед извлечением следующего шары в урне тщательно перемешиваются. Найдите вероятность того, что из пяти вынутых шаров будет 2 белых.\n",
    "Ответ округлите до тысячных"
   ]
  },
  {
   "cell_type": "code",
   "execution_count": 118,
   "id": "e4b4acc2-dfd8-47f5-88b3-a99644087fff",
   "metadata": {},
   "outputs": [
    {
     "data": {
      "text/plain": [
       "0.088"
      ]
     },
     "execution_count": 118,
     "metadata": {},
     "output_type": "execute_result"
    }
   ],
   "source": [
    "def balls (n, k):\n",
    "    p, q = 0.75, 0.25\n",
    "    C = factorial(n) / (factorial(k) * factorial(n-k))\n",
    "    return C * p**k * q**(n-k)\n",
    "\n",
    "round(balls(5, 2), 3)"
   ]
  },
  {
   "cell_type": "code",
   "execution_count": null,
   "id": "e202016f-67e3-4c58-93f8-70ec8e76488c",
   "metadata": {},
   "outputs": [],
   "source": []
  }
 ],
 "metadata": {
  "kernelspec": {
   "display_name": "Python 3 (ipykernel)",
   "language": "python",
   "name": "python3"
  },
  "language_info": {
   "codemirror_mode": {
    "name": "ipython",
    "version": 3
   },
   "file_extension": ".py",
   "mimetype": "text/x-python",
   "name": "python",
   "nbconvert_exporter": "python",
   "pygments_lexer": "ipython3",
   "version": "3.12.2"
  }
 },
 "nbformat": 4,
 "nbformat_minor": 5
}
